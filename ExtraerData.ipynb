{
 "cells": [
  {
   "cell_type": "code",
   "execution_count": 1,
   "metadata": {},
   "outputs": [],
   "source": [
    "import requests # Importo requests para poder hacer la solicitud a la pagina web\n",
    "from lxml import html # para poder ayudar a filtrar transformo los datos a etiquetas html\n",
    "from openpyxl import load_workbook # Para poder abrir un excel desde python para hacer la modificacion\n",
    "from bs4 import BeautifulSoup # para poder hacer scraping a paginas web"
   ]
  },
  {
   "cell_type": "code",
   "execution_count": 2,
   "metadata": {},
   "outputs": [
    {
     "data": {
      "text/plain": [
       "<Response [200]>"
      ]
     },
     "execution_count": 2,
     "metadata": {},
     "output_type": "execute_result"
    }
   ],
   "source": [
    "# asigno las variables para el analisis\n",
    "url = 'https://si3.bcentral.cl/indicadoressiete/secure/indicadoresdiarios.aspx'\n",
    "page = requests.get(url)\n",
    "page"
   ]
  },
  {
   "cell_type": "code",
   "execution_count": 3,
   "metadata": {},
   "outputs": [
    {
     "data": {
      "text/plain": [
       "bs4.BeautifulSoup"
      ]
     },
     "execution_count": 3,
     "metadata": {},
     "output_type": "execute_result"
    }
   ],
   "source": [
    "soup = BeautifulSoup(page.text, 'lxml')\n",
    "type(soup)"
   ]
  },
  {
   "cell_type": "code",
   "execution_count": 4,
   "metadata": {},
   "outputs": [
    {
     "data": {
      "text/plain": [
       "<title>\n",
       "\tIndicadores diarios\n",
       "</title>"
      ]
     },
     "execution_count": 4,
     "metadata": {},
     "output_type": "execute_result"
    }
   ],
   "source": [
    "soup.title"
   ]
  },
  {
   "cell_type": "code",
   "execution_count": 5,
   "metadata": {},
   "outputs": [
    {
     "data": {
      "text/plain": [
       "<Element html at 0x1a5b0ecdcc0>"
      ]
     },
     "execution_count": 5,
     "metadata": {},
     "output_type": "execute_result"
    }
   ],
   "source": [
    "#Filtración \n",
    "tree = html.fromstring(page.content)\n",
    "tree"
   ]
  },
  {
   "cell_type": "code",
   "execution_count": 6,
   "metadata": {},
   "outputs": [
    {
     "data": {
      "text/plain": [
       "<input id=\"txtDate\" name=\"txtDate\" style=\"width:100%\" type=\"text\" value=\"19 Dic 2023\"/>"
      ]
     },
     "execution_count": 6,
     "metadata": {},
     "output_type": "execute_result"
    }
   ],
   "source": [
    "fecha = soup.find(id = \"txtDate\")\n",
    "fecha"
   ]
  },
  {
   "cell_type": "code",
   "execution_count": 7,
   "metadata": {},
   "outputs": [
    {
     "name": "stdout",
     "output_type": "stream",
     "text": [
      "[['Unidad de fomento (UF) '], ['36.690,16'], ['Indice de valor promedio (IVP) '], ['37.997,87']]\n"
     ]
    }
   ],
   "source": [
    "xpath_list0 = [\n",
    "    '//*[@id=\"lblSerie1_1\"]',\n",
    "    '//*[@id=\"lblValor1_1\"]',\n",
    "    '//*[@id=\"lblSerie1_2\"]',\n",
    "    '//*[@id=\"lblValor1_2\"]'\n",
    "]\n",
    "data_list0 = []\n",
    "for data in xpath_list0:\n",
    "    data_list0.append(tree.xpath(str(data +'/text()')))\n",
    "print(data_list0)\n",
    "\n"
   ]
  },
  {
   "cell_type": "code",
   "execution_count": 8,
   "metadata": {},
   "outputs": [
    {
     "name": "stdout",
     "output_type": "stream",
     "text": [
      "[['DÃ³lar observado '], ['875,48'], ['Euro'], ['956,29'], ['Ã\\x8dndice de Tipo de Cambio Multilateral'], ['109,88']]\n"
     ]
    }
   ],
   "source": [
    "xpath_list1 = [\n",
    "    '//*[@id=\"lblSerie1_3\"]',\n",
    "    '//*[@id=\"lblValor1_3\"]',\n",
    "    '//*[@id=\"lblSerie1_5\"]',\n",
    "    '//*[@id=\"lblValor1_5\"]',\n",
    "    '//*[@id=\"lblSerie1_7\"]',\n",
    "    '//*[@id=\"lblValor1_7\"]'\n",
    "]\n",
    "data_list1 = []\n",
    "for data in xpath_list1:\n",
    "    data_list1.append(tree.xpath(str(data +'/text()')))\n",
    "print(data_list1)"
   ]
  },
  {
   "cell_type": "code",
   "execution_count": 9,
   "metadata": {},
   "outputs": [
    {
     "name": "stdout",
     "output_type": "stream",
     "text": [
      "[['Euro'], ['0,9155'], ['Yen'], ['142,9614']]\n"
     ]
    }
   ],
   "source": [
    "xpath_list2 = [\n",
    "    '//*[@id=\"lblSerie1_9\"]',\n",
    "    '//*[@id=\"lblValor1_9\"]',\n",
    "    '//*[@id=\"lblSerie1_10\"]',\n",
    "    '//*[@id=\"lblValor1_10\"]'\n",
    "]\n",
    "data_list2 = []\n",
    "for data in xpath_list2:\n",
    "    data_list2.append(tree.xpath(str(data +'/text()')))\n",
    "print(data_list2)"
   ]
  },
  {
   "cell_type": "code",
   "execution_count": 21,
   "metadata": {},
   "outputs": [
    {
     "name": "stdout",
     "output_type": "stream",
     "text": [
      "[['Tasa de interÃ©s interbancaria (TIB)'], ['ND']]\n"
     ]
    }
   ],
   "source": [
    "xpath_list3 = [\n",
    "    '//*[@id=\"lblSerie2_0\"]',\n",
    "    '//*[@id=\"lblValor2_0\"]',\n",
    "]\n",
    "data_list3 = []\n",
    "for data in xpath_list3:\n",
    "    data_list3.append(tree.xpath(str(data +'/text()')))\n",
    "print(data_list3)"
   ]
  },
  {
   "cell_type": "code",
   "execution_count": 11,
   "metadata": {},
   "outputs": [
    {
     "name": "stdout",
     "output_type": "stream",
     "text": [
      "[['Onza troy de Oro'], ['2.024,91'], ['Onza troy de plata'], ['23,76'], ['Libra de Cobre'], ['3,84']]\n"
     ]
    }
   ],
   "source": [
    "xpath_list4 = [\n",
    "    '//*[@id=\"lblSerie2_3\"]',\n",
    "    '//*[@id=\"lblValor2_3\"]',\n",
    "    '//*[@id=\"lblSerie2_4\"]',\n",
    "    '//*[@id=\"lblValor2_4\"]',\n",
    "    '//*[@id=\"lblSerie2_5\"]',\n",
    "    '//*[@id=\"lblValor2_5\"]'\n",
    "]\n",
    "data_list4 = []\n",
    "for data in xpath_list4:\n",
    "    data_list4.append(tree.xpath(str(data +'/text()')))\n",
    "print(data_list4)"
   ]
  },
  {
   "cell_type": "code",
   "execution_count": 12,
   "metadata": {},
   "outputs": [
    {
     "data": {
      "text/plain": [
       "<openpyxl.workbook.workbook.Workbook at 0x1a5b1fa0a00>"
      ]
     },
     "execution_count": 12,
     "metadata": {},
     "output_type": "execute_result"
    }
   ],
   "source": [
    "wb = load_workbook('/Users/madar/Documents/GitHub/ExtrarTexto/INDICADORESDIARIOS.xlsx')\n",
    "wb"
   ]
  },
  {
   "cell_type": "code",
   "execution_count": 13,
   "metadata": {},
   "outputs": [
    {
     "data": {
      "text/plain": [
       "<Worksheet \"Hoja1\">"
      ]
     },
     "execution_count": 13,
     "metadata": {},
     "output_type": "execute_result"
    }
   ],
   "source": [
    "ws = wb['Hoja1']\n",
    "ws"
   ]
  },
  {
   "cell_type": "code",
   "execution_count": 14,
   "metadata": {},
   "outputs": [
    {
     "data": {
      "text/plain": [
       "'INDICADORES DIARIOS '"
      ]
     },
     "execution_count": 14,
     "metadata": {},
     "output_type": "execute_result"
    }
   ],
   "source": [
    "ws['B3'].value"
   ]
  },
  {
   "cell_type": "code",
   "execution_count": 15,
   "metadata": {},
   "outputs": [
    {
     "name": "stdout",
     "output_type": "stream",
     "text": [
      "[['Unidad de fomento (UF) '], ['36.690,16'], ['Indice de valor promedio (IVP) '], ['37.997,87']]\n"
     ]
    }
   ],
   "source": [
    "print(data_list0)\n",
    "B7 = data_list0[0][0]\n",
    "C7 = data_list0[1][0]\n",
    "B8 = data_list0[2][0]\n",
    "C8 = data_list0[3][0]\n",
    "ws['B7'] = B7\n",
    "ws['C7'] = C7\n",
    "ws['B8'] = B8\n",
    "ws['C8'] = C8"
   ]
  },
  {
   "cell_type": "code",
   "execution_count": 16,
   "metadata": {},
   "outputs": [
    {
     "name": "stdout",
     "output_type": "stream",
     "text": [
      "[['DÃ³lar observado '], ['875,48'], ['Euro'], ['956,29'], ['Ã\\x8dndice de Tipo de Cambio Multilateral'], ['109,88']]\n"
     ]
    }
   ],
   "source": [
    "print(data_list1)\n",
    "B11 = data_list1[0][0]\n",
    "C11 = data_list1[1][0]\n",
    "B12 = data_list1[2][0]\n",
    "C12 = data_list1[3][0]\n",
    "B13 = data_list1[4][0]\n",
    "C13 = data_list1[5][0]\n",
    "ws['B11'] = B11 \n",
    "ws['C11'] = C11 \n",
    "ws['B12'] = B12 \n",
    "ws['C12'] = C12 \n",
    "ws['B13'] = B13 \n",
    "ws['C13'] = C13 "
   ]
  },
  {
   "cell_type": "code",
   "execution_count": 17,
   "metadata": {},
   "outputs": [
    {
     "name": "stdout",
     "output_type": "stream",
     "text": [
      "[['Euro'], ['0,9155'], ['Yen'], ['142,9614']]\n"
     ]
    }
   ],
   "source": [
    "print(data_list2)\n",
    "B17 = data_list2[0][0]\n",
    "C17 = data_list2[1][0]\n",
    "B18 = data_list2[2][0]\n",
    "C18 = data_list2[3][0]\n",
    "\n",
    "ws['B17'] = B17\n",
    "ws['C17'] = C17\n",
    "ws['B18'] = B18\n",
    "ws['C18'] = C18\n"
   ]
  },
  {
   "cell_type": "code",
   "execution_count": 18,
   "metadata": {},
   "outputs": [
    {
     "name": "stdout",
     "output_type": "stream",
     "text": [
      "[['Tasa de interÃ©s interbancaria (TIB)'], ['ND']]\n"
     ]
    }
   ],
   "source": [
    "print(data_list3)\n",
    "E7 = data_list3[0][0]\n",
    "F7 = data_list3[1][0]\n",
    "\n",
    "ws['E7'] = E7\n",
    "ws['F7'] = F7 \n"
   ]
  },
  {
   "cell_type": "code",
   "execution_count": 19,
   "metadata": {},
   "outputs": [
    {
     "name": "stdout",
     "output_type": "stream",
     "text": [
      "[['Onza troy de Oro'], ['2.024,91'], ['Onza troy de plata'], ['23,76'], ['Libra de Cobre'], ['3,84']]\n"
     ]
    }
   ],
   "source": [
    "print(data_list4)\n",
    "E11 = data_list4[0][0]\n",
    "F11 = data_list4[1][0]\n",
    "E12 = data_list4[2][0]\n",
    "F12 = data_list4[3][0]\n",
    "E13 = data_list4[4][0]\n",
    "F13 = data_list4[5][0]\n",
    "\n",
    "ws['E11'] = E11\n",
    "ws['F11'] = F11\n",
    "ws['E12'] = E12\n",
    "ws['F12'] = F12\n",
    "ws['E13'] = E13\n",
    "ws['F13'] = F13 "
   ]
  },
  {
   "cell_type": "code",
   "execution_count": 22,
   "metadata": {},
   "outputs": [],
   "source": [
    "wb.save('/Users/madar/Documents/GitHub/ExtrarTexto/INDICADORESDIARIOS.xlsx')"
   ]
  },
  {
   "cell_type": "code",
   "execution_count": null,
   "metadata": {},
   "outputs": [],
   "source": []
  }
 ],
 "metadata": {
  "kernelspec": {
   "display_name": "Python 3",
   "language": "python",
   "name": "python3"
  },
  "language_info": {
   "codemirror_mode": {
    "name": "ipython",
    "version": 3
   },
   "file_extension": ".py",
   "mimetype": "text/x-python",
   "name": "python",
   "nbconvert_exporter": "python",
   "pygments_lexer": "ipython3",
   "version": "3.9.13"
  }
 },
 "nbformat": 4,
 "nbformat_minor": 2
}
